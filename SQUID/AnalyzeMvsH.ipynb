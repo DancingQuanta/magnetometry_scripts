{
 "cells": [
  {
   "cell_type": "markdown",
   "metadata": {},
   "source": [
    "## User Inputs:\n",
    "Filename <br>\n",
    "Sample geometry"
   ]
  },
  {
   "cell_type": "code",
   "execution_count": null,
   "metadata": {
    "collapsed": true,
    "deletable": true,
    "editable": true
   },
   "outputs": [],
   "source": [
    "filename = \"SQUIDdata-ppblsmo/ppblsmo05-MvsH-ZFC-100Oewarm-10K-20170124.rso.dat\"\n",
    "samplename = 'ppblsmo05'\n",
    "width = 3. #mm\n",
    "height = 5. #mm\n",
    "thickness = 9. #nm"
   ]
  },
  {
   "cell_type": "code",
   "execution_count": null,
   "metadata": {
    "collapsed": true
   },
   "outputs": [],
   "source": [
    "#Imports, setting, etc.\n",
    "import numpy as np\n",
    "import matplotlib.pyplot as plt\n",
    "%matplotlib notebook\n",
    "from scipy import interpolate\n",
    "from scipy import optimize\n",
    "\n",
    "#function to read in data from a MultiVu file\n",
    "def read(fname):\n",
    "    #SEPARATE HEADER FROM DATA\n",
    "    headerline = ''\n",
    "    nline = 0\n",
    "    inputfile = open(fname,'r')\n",
    "    while headerline != \"[Data]\\n\":\n",
    "        headerline = inputfile.readline()\n",
    "        nline += 1\n",
    "    inputfile.close()\n",
    "    #READ IN DATA FILE, masked. Not all of them will be filled. The mask has values of True where data is missing\n",
    "    arr = np.genfromtxt(fname, delimiter=',', skip_header=nline, names=True, usemask=True, dtype=None)\n",
    "    return arr"
   ]
  },
  {
   "cell_type": "code",
   "execution_count": null,
   "metadata": {
    "collapsed": false,
    "deletable": true,
    "editable": true,
    "scrolled": true
   },
   "outputs": [],
   "source": [
    "data = read(filename)\n",
    "#output data columns\n",
    "data.dtype.names"
   ]
  },
  {
   "cell_type": "markdown",
   "metadata": {},
   "source": [
    "## Checking the data to make sure it's good quality"
   ]
  },
  {
   "cell_type": "code",
   "execution_count": null,
   "metadata": {
    "collapsed": true,
    "deletable": true,
    "editable": true
   },
   "outputs": [],
   "source": [
    "#check that we are varying the right variables over time\n",
    "plt.figure()\n",
    "plt.plot(data['Field_Oe'])\n",
    "plt.plot(data['Temperature_K'])"
   ]
  },
  {
   "cell_type": "code",
   "execution_count": null,
   "metadata": {
    "collapsed": true,
    "deletable": true,
    "editable": true
   },
   "outputs": [],
   "source": [
    "plt.figure()\n",
    "plt.plot(data['Field_Oe'],data['Long_Moment_emu'])"
   ]
  },
  {
   "cell_type": "code",
   "execution_count": null,
   "metadata": {
    "collapsed": true
   },
   "outputs": [],
   "source": [
    "plt.figure()\n",
    "plt.plot(data['Long_Reg_Fit'],'.')"
   ]
  },
  {
   "cell_type": "markdown",
   "metadata": {},
   "source": [
    "Filter out curves with bad fits if necessary"
   ]
  },
  {
   "cell_type": "code",
   "execution_count": null,
   "metadata": {
    "collapsed": false
   },
   "outputs": [],
   "source": [
    "filt = np.ma.where(data['Long_Reg_Fit'] < .85)\n",
    "#filter out values with bad fit values\n",
    "data[filt] = np.ma.masked"
   ]
  },
  {
   "cell_type": "markdown",
   "metadata": {},
   "source": [
    "TODO: inspect raw data to see why fit failed"
   ]
  },
  {
   "cell_type": "markdown",
   "metadata": {},
   "source": [
    "## Separate out field direction sweeps to manually determine saturation field"
   ]
  },
  {
   "cell_type": "code",
   "execution_count": null,
   "metadata": {
    "collapsed": false
   },
   "outputs": [],
   "source": [
    "nextdat = data[1:]\n",
    "data['Field_Oe'][0]-nextdat['Field_Oe'][0]\n",
    "where = np.ma.where(data['Field_Oe'][:-1] > nextdat['Field_Oe'])\n",
    "maxfield = where[0][0]\n",
    "minfield = where[0][-1] + 2 #sweeps include repeats of fields\n",
    "\n",
    "virgin = data[:maxfield]\n",
    "sweepdown = data[maxfield:minfield]\n",
    "sweepup = data[minfield:]\n",
    "\n",
    "plt.figure()\n",
    "plt.plot(virgin['Field_Oe'], virgin['Long_Moment_emu'],'b.-')\n",
    "plt.plot(sweepdown['Field_Oe'], sweepdown['Long_Moment_emu'],'r.-')\n",
    "plt.plot(sweepup['Field_Oe'], sweepup['Long_Moment_emu'],'g.-')"
   ]
  },
  {
   "cell_type": "code",
   "execution_count": null,
   "metadata": {
    "collapsed": true
   },
   "outputs": [],
   "source": [
    "#\"saturation\" region is determined manually\n",
    "uppersatfield = 3500\n",
    "lowersatfield = -3500\n",
    "\n",
    "upper = np.ma.where(data['Field_Oe'] >= uppersatfield)\n",
    "lower = np.ma.where(data['Field_Oe'] <= lowersatfield)\n",
    "plt.figure()\n",
    "plt.plot(data['Field_Oe'][upper],data['Long_Moment_emu'][upper])\n",
    "plt.plot(data['Field_Oe'][lower],data['Long_Moment_emu'][lower])"
   ]
  },
  {
   "cell_type": "markdown",
   "metadata": {},
   "source": [
    "TODO: fit both regions together with the same slope"
   ]
  },
  {
   "cell_type": "code",
   "execution_count": null,
   "metadata": {
    "collapsed": false
   },
   "outputs": [],
   "source": [
    "#subtracting out a linear (diamagnetic) background from the substrate\n",
    "lincoefflower = np.polyfit(data['Field_Oe'][lower], data['Long_Moment_emu'][lower], 1)\n",
    "#TODO: fit both regions together\n",
    "lincoeffupper = np.polyfit(data['Field_Oe'][upper], data['Long_Moment_emu'][upper], 1)"
   ]
  },
  {
   "cell_type": "code",
   "execution_count": null,
   "metadata": {
    "collapsed": false
   },
   "outputs": [],
   "source": [
    "#currently only using the middle region (lower) since it has the least temperature drift\n",
    "backgroundslope = lincoefflower[0]\n",
    "subtracted = data['Long_Moment_emu']-backgroundslope*data['Field_Oe']\n",
    "\n",
    "volume = width/10. * height/10. * thickness/1.E7 #cm^3\n",
    "moment = subtracted/volume #emu/cc\n",
    "\n",
    "virg = moment[:maxfield]\n",
    "down = moment[maxfield:minfield]\n",
    "up = moment[minfield:]\n",
    "plt.figure()\n",
    "plt.plot(data['Field_Oe'][:maxfield], virg, 'b.-')\n",
    "plt.plot(data['Field_Oe'][maxfield:minfield], down,'r.-')\n",
    "plt.plot(data['Field_Oe'][minfield:], up, 'g.-')\n",
    "plt.title('MvsH')\n",
    "plt.xlabel('Applied Field H (Oe)')\n",
    "plt.ylabel('Moment (emu/cc)')\n",
    "ax = plt.gca()\n",
    "ax.tick_params(direction='in')"
   ]
  },
  {
   "cell_type": "markdown",
   "metadata": {},
   "source": [
    "## Extract parameters from MvsH curve and plot"
   ]
  },
  {
   "cell_type": "code",
   "execution_count": null,
   "metadata": {
    "collapsed": false
   },
   "outputs": [],
   "source": [
    "funcdown = interpolate.interp1d(data['Field_Oe'][maxfield:minfield], down, kind='cubic')\n",
    "funcup = interpolate.interp1d(data['Field_Oe'][minfield:], up)\n",
    "remanentdown = funcdown(0)\n",
    "remanentup = funcup(0)\n",
    "remanent = (remanentdown - remanentup)/2.\n",
    "print('Remanent Field: '+str(remanent)+' Oe')"
   ]
  },
  {
   "cell_type": "code",
   "execution_count": null,
   "metadata": {
    "collapsed": true
   },
   "outputs": [],
   "source": [
    "plt.figure()\n",
    "plt.plot(data['Field_Oe'][upper], moment[upper],'.-')"
   ]
  },
  {
   "cell_type": "code",
   "execution_count": null,
   "metadata": {
    "collapsed": true
   },
   "outputs": [],
   "source": [
    "plt.figure()\n",
    "plt.plot(data['Field_Oe'][lower], moment[lower], '.-')"
   ]
  },
  {
   "cell_type": "code",
   "execution_count": null,
   "metadata": {
    "collapsed": false
   },
   "outputs": [],
   "source": [
    "satmomup = np.mean(moment[upper])\n",
    "satmomdown = np.mean(moment[lower])\n",
    "satmoment = (satmomup-satmomdown)/2.\n",
    "print('Saturation moment: '+str(satmoment)+' emu/cm^3')"
   ]
  },
  {
   "cell_type": "markdown",
   "metadata": {},
   "source": [
    "TODO: figure out actual saturation field rather than guessing"
   ]
  },
  {
   "cell_type": "code",
   "execution_count": null,
   "metadata": {
    "collapsed": false
   },
   "outputs": [],
   "source": [
    "Hcoercivedown = optimize.brentq(funcdown, -100, 0)\n",
    "print('Coercive field (down): '+str(Hcoercivedown)+' Oe')\n",
    "Hcoerciveup = optimize.brentq(funcup, 0, 100)\n",
    "print('Coercive field (up): '+str(Hcoerciveup)+' Oe')\n",
    "Hcoercive = (Hcoerciveup - Hcoercivedown)/2.\n",
    "print ('Coercive field: '+str(Hcoercive)+' Oe')\n",
    "Hexchangebias = (Hcoerciveup + Hcoercivedown)/2.\n",
    "print ('Exchange bias field: '+str(Hexchangebias)+' Oe')"
   ]
  },
  {
   "cell_type": "code",
   "execution_count": null,
   "metadata": {
    "collapsed": false
   },
   "outputs": [],
   "source": [
    "plt.figure()\n",
    "plt.plot(data['Field_Oe'][maxfield:minfield], down,'r.-',label='Sweep down')\n",
    "plt.plot(data['Field_Oe'][minfield:], up, 'g.-',label='Sweep up')\n",
    "plt.plot(0,remanentdown,'k*',label='Remanent field')\n",
    "plt.plot(0,remanentup,'k*')\n",
    "plt.plot(Hcoercivedown,0,'kx',label='Coercive field')\n",
    "plt.plot(Hcoerciveup,0,'kx')\n",
    "plt.hlines(satmomup,Hexchangebias,data['Field_Oe'][maxfield],linestyles='dashed',label='Saturation magnetization')\n",
    "plt.hlines(satmomdown,data['Field_Oe'][minfield],Hexchangebias,linestyles='dashed')\n",
    "plt.vlines(Hexchangebias,satmomdown,satmomup,linestyles='dotted',label='Exchange bias')\n",
    "plt.title('MvsH: '+samplename)\n",
    "plt.xlabel('Applied Field (Oe)')\n",
    "plt.ylabel('Moment (emu/cc)')\n",
    "ax = plt.gca()\n",
    "plt.legend(loc=4)\n",
    "ax.tick_params(direction='in')"
   ]
  },
  {
   "cell_type": "code",
   "execution_count": null,
   "metadata": {
    "collapsed": true
   },
   "outputs": [],
   "source": []
  }
 ],
 "metadata": {
  "kernelspec": {
   "display_name": "Python 2",
   "language": "python",
   "name": "python2"
  },
  "language_info": {
   "codemirror_mode": {
    "name": "ipython",
    "version": 2
   },
   "file_extension": ".py",
   "mimetype": "text/x-python",
   "name": "python",
   "nbconvert_exporter": "python",
   "pygments_lexer": "ipython2",
   "version": "2.7.11"
  }
 },
 "nbformat": 4,
 "nbformat_minor": 2
}
